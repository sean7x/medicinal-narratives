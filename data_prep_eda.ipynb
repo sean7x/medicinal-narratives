{
 "cells": [
  {
   "cell_type": "markdown",
   "metadata": {},
   "source": [
    "# Data Preparation and Explorative Analysis Workbook"
   ]
  },
  {
   "cell_type": "markdown",
   "metadata": {},
   "source": [
    "## Import libraries and modules"
   ]
  },
  {
   "cell_type": "code",
   "execution_count": 2,
   "metadata": {},
   "outputs": [],
   "source": [
    "import pandas as pd\n",
    "import html\n",
    "from sklearn.model_selection import train_test_split"
   ]
  },
  {
   "cell_type": "markdown",
   "metadata": {},
   "source": [
    "## 1 - Data Cleaning and Preprocessing"
   ]
  },
  {
   "cell_type": "code",
   "execution_count": 3,
   "metadata": {},
   "outputs": [
    {
     "data": {
      "text/html": [
       "<div>\n",
       "<style scoped>\n",
       "    .dataframe tbody tr th:only-of-type {\n",
       "        vertical-align: middle;\n",
       "    }\n",
       "\n",
       "    .dataframe tbody tr th {\n",
       "        vertical-align: top;\n",
       "    }\n",
       "\n",
       "    .dataframe thead th {\n",
       "        text-align: right;\n",
       "    }\n",
       "</style>\n",
       "<table border=\"1\" class=\"dataframe\">\n",
       "  <thead>\n",
       "    <tr style=\"text-align: right;\">\n",
       "      <th></th>\n",
       "      <th>Unnamed: 0</th>\n",
       "      <th>drugName</th>\n",
       "      <th>condition</th>\n",
       "      <th>review</th>\n",
       "      <th>rating</th>\n",
       "      <th>date</th>\n",
       "      <th>usefulCount</th>\n",
       "    </tr>\n",
       "  </thead>\n",
       "  <tbody>\n",
       "    <tr>\n",
       "      <th>3135</th>\n",
       "      <td>158767</td>\n",
       "      <td>Methylphenidate</td>\n",
       "      <td>Narcolepsy</td>\n",
       "      <td>\"I didn&amp;#039;t give this a 10 simply because I...</td>\n",
       "      <td>9</td>\n",
       "      <td>2008-11-12</td>\n",
       "      <td>39</td>\n",
       "    </tr>\n",
       "    <tr>\n",
       "      <th>45109</th>\n",
       "      <td>220065</td>\n",
       "      <td>Amitriptyline</td>\n",
       "      <td>Anxiety and Stress</td>\n",
       "      <td>\"I was given this pill for pain relief. It onl...</td>\n",
       "      <td>1</td>\n",
       "      <td>2016-04-02</td>\n",
       "      <td>12</td>\n",
       "    </tr>\n",
       "    <tr>\n",
       "      <th>71455</th>\n",
       "      <td>104984</td>\n",
       "      <td>Ethinyl estradiol / levonorgestrel</td>\n",
       "      <td>Birth Control</td>\n",
       "      <td>\"Fantastic experience.  9  months on Seasoniqu...</td>\n",
       "      <td>10</td>\n",
       "      <td>2009-07-11</td>\n",
       "      <td>28</td>\n",
       "    </tr>\n",
       "    <tr>\n",
       "      <th>3568</th>\n",
       "      <td>191416</td>\n",
       "      <td>Lisdexamfetamine</td>\n",
       "      <td>ADHD</td>\n",
       "      <td>\"This medication saved my life! Better than an...</td>\n",
       "      <td>10</td>\n",
       "      <td>2016-03-02</td>\n",
       "      <td>43</td>\n",
       "    </tr>\n",
       "    <tr>\n",
       "      <th>91342</th>\n",
       "      <td>220800</td>\n",
       "      <td>Loestrin 24 Fe</td>\n",
       "      <td>Birth Control</td>\n",
       "      <td>\"I have been using this for over 3 years now. ...</td>\n",
       "      <td>9</td>\n",
       "      <td>2010-01-11</td>\n",
       "      <td>15</td>\n",
       "    </tr>\n",
       "  </tbody>\n",
       "</table>\n",
       "</div>"
      ],
      "text/plain": [
       "       Unnamed: 0                            drugName           condition  \\\n",
       "3135       158767                     Methylphenidate          Narcolepsy   \n",
       "45109      220065                       Amitriptyline  Anxiety and Stress   \n",
       "71455      104984  Ethinyl estradiol / levonorgestrel       Birth Control   \n",
       "3568       191416                    Lisdexamfetamine                ADHD   \n",
       "91342      220800                      Loestrin 24 Fe       Birth Control   \n",
       "\n",
       "                                                  review  rating       date  \\\n",
       "3135   \"I didn&#039;t give this a 10 simply because I...       9 2008-11-12   \n",
       "45109  \"I was given this pill for pain relief. It onl...       1 2016-04-02   \n",
       "71455  \"Fantastic experience.  9  months on Seasoniqu...      10 2009-07-11   \n",
       "3568   \"This medication saved my life! Better than an...      10 2016-03-02   \n",
       "91342  \"I have been using this for over 3 years now. ...       9 2010-01-11   \n",
       "\n",
       "       usefulCount  \n",
       "3135            39  \n",
       "45109           12  \n",
       "71455           28  \n",
       "3568            43  \n",
       "91342           15  "
      ]
     },
     "execution_count": 3,
     "metadata": {},
     "output_type": "execute_result"
    }
   ],
   "source": [
    "# Read in the training data\n",
    "train_df = pd.read_json('./data/lewtun-drug-reviews/train.jsonl', lines=True)\n",
    "train_df.sample(5)"
   ]
  },
  {
   "cell_type": "code",
   "execution_count": 4,
   "metadata": {},
   "outputs": [
    {
     "data": {
      "text/plain": [
       "0"
      ]
     },
     "execution_count": 4,
     "metadata": {},
     "output_type": "execute_result"
    }
   ],
   "source": [
    "# Check for duplicated id\n",
    "train_df.duplicated(subset=['Unnamed: 0']).sum()"
   ]
  },
  {
   "cell_type": "code",
   "execution_count": 5,
   "metadata": {},
   "outputs": [],
   "source": [
    "# Decode HTML entities back to original characters and remove whitespaces\n",
    "train_df['review'] = train_df['review'].apply(html.unescape).str.replace(r'[\\r\\n\\t]', '', regex=True).str.strip()"
   ]
  },
  {
   "cell_type": "code",
   "execution_count": 6,
   "metadata": {},
   "outputs": [
    {
     "name": "stdout",
     "output_type": "stream",
     "text": [
      "<class 'pandas.core.frame.DataFrame'>\n",
      "RangeIndex: 161297 entries, 0 to 161296\n",
      "Data columns (total 7 columns):\n",
      " #   Column       Non-Null Count   Dtype         \n",
      "---  ------       --------------   -----         \n",
      " 0   Unnamed: 0   161297 non-null  int64         \n",
      " 1   drugName     161297 non-null  object        \n",
      " 2   condition    160398 non-null  object        \n",
      " 3   review       161297 non-null  object        \n",
      " 4   rating       161297 non-null  int64         \n",
      " 5   date         161297 non-null  datetime64[ns]\n",
      " 6   usefulCount  161297 non-null  int64         \n",
      "dtypes: datetime64[ns](1), int64(3), object(3)\n",
      "memory usage: 8.6+ MB\n"
     ]
    }
   ],
   "source": [
    "# Check for data types and missing values\n",
    "train_df.info()"
   ]
  },
  {
   "cell_type": "code",
   "execution_count": 7,
   "metadata": {},
   "outputs": [
    {
     "data": {
      "text/html": [
       "<div>\n",
       "<style scoped>\n",
       "    .dataframe tbody tr th:only-of-type {\n",
       "        vertical-align: middle;\n",
       "    }\n",
       "\n",
       "    .dataframe tbody tr th {\n",
       "        vertical-align: top;\n",
       "    }\n",
       "\n",
       "    .dataframe thead th {\n",
       "        text-align: right;\n",
       "    }\n",
       "</style>\n",
       "<table border=\"1\" class=\"dataframe\">\n",
       "  <thead>\n",
       "    <tr style=\"text-align: right;\">\n",
       "      <th></th>\n",
       "      <th>Unnamed: 0</th>\n",
       "      <th>drugName</th>\n",
       "      <th>condition</th>\n",
       "      <th>review</th>\n",
       "      <th>rating</th>\n",
       "      <th>date</th>\n",
       "      <th>usefulCount</th>\n",
       "    </tr>\n",
       "  </thead>\n",
       "  <tbody>\n",
       "    <tr>\n",
       "      <th>30</th>\n",
       "      <td>51452</td>\n",
       "      <td>Azithromycin</td>\n",
       "      <td>None</td>\n",
       "      <td>\"Very good response. It is so useful for me. \"</td>\n",
       "      <td>10</td>\n",
       "      <td>2010-08-18</td>\n",
       "      <td>1</td>\n",
       "    </tr>\n",
       "    <tr>\n",
       "      <th>148</th>\n",
       "      <td>61073</td>\n",
       "      <td>Urea</td>\n",
       "      <td>None</td>\n",
       "      <td>\"Accurate information.\"</td>\n",
       "      <td>10</td>\n",
       "      <td>2011-07-02</td>\n",
       "      <td>13</td>\n",
       "    </tr>\n",
       "    <tr>\n",
       "      <th>488</th>\n",
       "      <td>132651</td>\n",
       "      <td>Doxepin</td>\n",
       "      <td>None</td>\n",
       "      <td>\"So far so good. Good for me and I can take it...</td>\n",
       "      <td>10</td>\n",
       "      <td>2010-10-20</td>\n",
       "      <td>25</td>\n",
       "    </tr>\n",
       "    <tr>\n",
       "      <th>733</th>\n",
       "      <td>44297</td>\n",
       "      <td>Ethinyl estradiol / norgestimate</td>\n",
       "      <td>None</td>\n",
       "      <td>\"I haven't been on it for a long time and I ha...</td>\n",
       "      <td>8</td>\n",
       "      <td>2011-01-24</td>\n",
       "      <td>1</td>\n",
       "    </tr>\n",
       "    <tr>\n",
       "      <th>851</th>\n",
       "      <td>68697</td>\n",
       "      <td>Medroxyprogesterone</td>\n",
       "      <td>None</td>\n",
       "      <td>\"I started the shot in July 2015 and ended in ...</td>\n",
       "      <td>6</td>\n",
       "      <td>2017-03-23</td>\n",
       "      <td>1</td>\n",
       "    </tr>\n",
       "    <tr>\n",
       "      <th>...</th>\n",
       "      <td>...</td>\n",
       "      <td>...</td>\n",
       "      <td>...</td>\n",
       "      <td>...</td>\n",
       "      <td>...</td>\n",
       "      <td>...</td>\n",
       "      <td>...</td>\n",
       "    </tr>\n",
       "    <tr>\n",
       "      <th>160468</th>\n",
       "      <td>117817</td>\n",
       "      <td>Multivitamin with minerals</td>\n",
       "      <td>None</td>\n",
       "      <td>\"Severe hives itching  after taking for 6 months\"</td>\n",
       "      <td>5</td>\n",
       "      <td>2015-11-15</td>\n",
       "      <td>0</td>\n",
       "    </tr>\n",
       "    <tr>\n",
       "      <th>160500</th>\n",
       "      <td>657</td>\n",
       "      <td>Medroxyprogesterone</td>\n",
       "      <td>None</td>\n",
       "      <td>\"I am 18 and I have been using the shot for 8 ...</td>\n",
       "      <td>6</td>\n",
       "      <td>2011-11-20</td>\n",
       "      <td>2</td>\n",
       "    </tr>\n",
       "    <tr>\n",
       "      <th>160689</th>\n",
       "      <td>104844</td>\n",
       "      <td>Ethinyl estradiol / levonorgestrel</td>\n",
       "      <td>None</td>\n",
       "      <td>\"I've been on Loseasonique for about 2 weeks n...</td>\n",
       "      <td>10</td>\n",
       "      <td>2010-04-13</td>\n",
       "      <td>3</td>\n",
       "    </tr>\n",
       "    <tr>\n",
       "      <th>160752</th>\n",
       "      <td>41252</td>\n",
       "      <td>Acetaminophen / oxycodone</td>\n",
       "      <td>None</td>\n",
       "      <td>\"This is my third day using this pain medicine...</td>\n",
       "      <td>10</td>\n",
       "      <td>2010-12-13</td>\n",
       "      <td>4</td>\n",
       "    </tr>\n",
       "    <tr>\n",
       "      <th>160841</th>\n",
       "      <td>150516</td>\n",
       "      <td>Sulfamethoxazole / trimethoprim</td>\n",
       "      <td>None</td>\n",
       "      <td>\"Given a 7 day course. After 2 days, insomnia,...</td>\n",
       "      <td>4</td>\n",
       "      <td>2016-09-28</td>\n",
       "      <td>3</td>\n",
       "    </tr>\n",
       "  </tbody>\n",
       "</table>\n",
       "<p>899 rows × 7 columns</p>\n",
       "</div>"
      ],
      "text/plain": [
       "        Unnamed: 0                            drugName condition  \\\n",
       "30           51452                        Azithromycin      None   \n",
       "148          61073                                Urea      None   \n",
       "488         132651                             Doxepin      None   \n",
       "733          44297    Ethinyl estradiol / norgestimate      None   \n",
       "851          68697                 Medroxyprogesterone      None   \n",
       "...            ...                                 ...       ...   \n",
       "160468      117817          Multivitamin with minerals      None   \n",
       "160500         657                 Medroxyprogesterone      None   \n",
       "160689      104844  Ethinyl estradiol / levonorgestrel      None   \n",
       "160752       41252           Acetaminophen / oxycodone      None   \n",
       "160841      150516     Sulfamethoxazole / trimethoprim      None   \n",
       "\n",
       "                                                   review  rating       date  \\\n",
       "30         \"Very good response. It is so useful for me. \"      10 2010-08-18   \n",
       "148                               \"Accurate information.\"      10 2011-07-02   \n",
       "488     \"So far so good. Good for me and I can take it...      10 2010-10-20   \n",
       "733     \"I haven't been on it for a long time and I ha...       8 2011-01-24   \n",
       "851     \"I started the shot in July 2015 and ended in ...       6 2017-03-23   \n",
       "...                                                   ...     ...        ...   \n",
       "160468  \"Severe hives itching  after taking for 6 months\"       5 2015-11-15   \n",
       "160500  \"I am 18 and I have been using the shot for 8 ...       6 2011-11-20   \n",
       "160689  \"I've been on Loseasonique for about 2 weeks n...      10 2010-04-13   \n",
       "160752  \"This is my third day using this pain medicine...      10 2010-12-13   \n",
       "160841  \"Given a 7 day course. After 2 days, insomnia,...       4 2016-09-28   \n",
       "\n",
       "        usefulCount  \n",
       "30                1  \n",
       "148              13  \n",
       "488              25  \n",
       "733               1  \n",
       "851               1  \n",
       "...             ...  \n",
       "160468            0  \n",
       "160500            2  \n",
       "160689            3  \n",
       "160752            4  \n",
       "160841            3  \n",
       "\n",
       "[899 rows x 7 columns]"
      ]
     },
     "execution_count": 7,
     "metadata": {},
     "output_type": "execute_result"
    }
   ],
   "source": [
    "train_df[train_df.condition.isna()]"
   ]
  },
  {
   "cell_type": "code",
   "execution_count": 8,
   "metadata": {},
   "outputs": [
    {
     "name": "stdout",
     "output_type": "stream",
     "text": [
      "drugName\n",
      "Levonorgestrel                       3657\n",
      "Etonogestrel                         3336\n",
      "Ethinyl estradiol / norethindrone    2850\n",
      "Nexplanon                            2156\n",
      "Ethinyl estradiol / norgestimate     2117\n",
      "                                     ... \n",
      "Omnipaque 350                           1\n",
      "Vontrol                                 1\n",
      "Ivabradine                              1\n",
      "Neo-Poly-Dex                            1\n",
      "Grifulvin V                             1\n",
      "Name: count, Length: 3436, dtype: int64\n",
      "-----------------------------------------------------------------\n",
      "condition\n",
      "Birth Control                                              28788\n",
      "Depression                                                  9069\n",
      "Pain                                                        6145\n",
      "Anxiety                                                     5904\n",
      "Acne                                                        5588\n",
      "                                                           ...  \n",
      "Dissociative Identity Disorde                                  1\n",
      "Hydrocephalus                                                  1\n",
      "Hyperlipoproteinemia Type III, Elevated beta-VLDL   IDL        1\n",
      "Q Feve                                                         1\n",
      "Neutropenia                                                    1\n",
      "Name: count, Length: 884, dtype: int64\n"
     ]
    }
   ],
   "source": [
    "# Check the unique values of categorical variables\n",
    "print(train_df.drugName.value_counts())\n",
    "print('-' * 65)\n",
    "print(train_df.condition.value_counts())"
   ]
  },
  {
   "cell_type": "code",
   "execution_count": 15,
   "metadata": {},
   "outputs": [
    {
     "data": {
      "text/plain": [
       "<Axes: xlabel='drugName'>"
      ]
     },
     "execution_count": 15,
     "metadata": {},
     "output_type": "execute_result"
    },
    {
     "data": {
      "image/png": "[encoded data removed]",
      "text/plain": [
       "<Figure size 640x480 with 1 Axes>"
      ]
     },
     "metadata": {},
     "output_type": "display_data"
    }
   ],
   "source": [
    "train_df.drugName.value_counts().plot()"
   ]
  },
  {
   "cell_type": "code",
   "execution_count": 13,
   "metadata": {},
   "outputs": [
    {
     "data": {
      "text/plain": [
       "<Axes: title={'center': 'Density Plot'}, ylabel='Density'>"
      ]
     },
     "execution_count": 13,
     "metadata": {},
     "output_type": "execute_result"
    },
    {
     "data": {
      "image/png": "[encoded data removed]",
      "text/plain": [
       "<Figure size 640x480 with 1 Axes>"
      ]
     },
     "metadata": {},
     "output_type": "display_data"
    }
   ],
   "source": [
    "train_df.rating.plot(kind='density', title='Density Plot', xlabel='Value', ylabel='Density', xlim=(0, 10))"
   ]
  },
  {
   "cell_type": "code",
   "execution_count": 16,
   "metadata": {},
   "outputs": [
    {
     "data": {
      "text/plain": [
       "0          9\n",
       "1          8\n",
       "2          5\n",
       "3          8\n",
       "4          9\n",
       "          ..\n",
       "161292    10\n",
       "161293     1\n",
       "161294     2\n",
       "161295    10\n",
       "161296     9\n",
       "Name: rating, Length: 161297, dtype: int64"
      ]
     },
     "execution_count": 16,
     "metadata": {},
     "output_type": "execute_result"
    }
   ],
   "source": [
    "train_df.rating"
   ]
  },
  {
   "cell_type": "code",
   "execution_count": null,
   "metadata": {},
   "outputs": [],
   "source": []
  }
 ],
 "metadata": {
  "kernelspec": {
   "display_name": "base",
   "language": "python",
   "name": "python3"
  },
  "language_info": {
   "codemirror_mode": {
    "name": "ipython",
    "version": 3
   },
   "file_extension": ".py",
   "mimetype": "text/x-python",
   "name": "python",
   "nbconvert_exporter": "python",
   "pygments_lexer": "ipython3",
   "version": "3.11.5"
  },
  "orig_nbformat": 4
 },
 "nbformat": 4,
 "nbformat_minor": 2
}
